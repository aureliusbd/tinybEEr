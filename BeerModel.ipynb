{
 "cells": [
  {
   "attachments": {},
   "cell_type": "markdown",
   "metadata": {},
   "source": [
    "# tinybEEr Project\n",
    "\n",
    "## Marcus Deichman, Julia Combs, Jasmine Gill\n",
    "\n",
    "Notebook will create, train, and compress the beer classification model that will be deployed on the tinyML device"
   ]
  },
  {
   "cell_type": "code",
   "execution_count": 14,
   "metadata": {},
   "outputs": [],
   "source": [
    "import pandas as pd\n",
    "import numpy as np"
   ]
  },
  {
   "cell_type": "code",
   "execution_count": null,
   "metadata": {},
   "outputs": [],
   "source": [
    "# Insert Cool Project Here!"
   ]
  },
  {
   "cell_type": "code",
   "execution_count": 12,
   "metadata": {},
   "outputs": [
    {
     "data": {
      "text/html": [
       "<div>\n",
       "<style scoped>\n",
       "    .dataframe tbody tr th:only-of-type {\n",
       "        vertical-align: middle;\n",
       "    }\n",
       "\n",
       "    .dataframe tbody tr th {\n",
       "        vertical-align: top;\n",
       "    }\n",
       "\n",
       "    .dataframe thead th {\n",
       "        text-align: right;\n",
       "    }\n",
       "</style>\n",
       "<table border=\"1\" class=\"dataframe\">\n",
       "  <thead>\n",
       "    <tr style=\"text-align: right;\">\n",
       "      <th></th>\n",
       "      <th>abv</th>\n",
       "      <th>ibu</th>\n",
       "      <th>beer_id</th>\n",
       "      <th>beer_name</th>\n",
       "      <th>style</th>\n",
       "      <th>style_group</th>\n",
       "      <th>ounces</th>\n",
       "      <th>brewery_id</th>\n",
       "    </tr>\n",
       "  </thead>\n",
       "  <tbody>\n",
       "    <tr>\n",
       "      <th>0</th>\n",
       "      <td>0.061</td>\n",
       "      <td>60.0</td>\n",
       "      <td>1979</td>\n",
       "      <td>Bitter Bitch</td>\n",
       "      <td>American Pale Ale (APA)</td>\n",
       "      <td>American Pale Ale (APA)</td>\n",
       "      <td>12.0</td>\n",
       "      <td>177</td>\n",
       "    </tr>\n",
       "    <tr>\n",
       "      <th>1</th>\n",
       "      <td>0.099</td>\n",
       "      <td>92.0</td>\n",
       "      <td>1036</td>\n",
       "      <td>Lower De Boom</td>\n",
       "      <td>American Barleywine</td>\n",
       "      <td>other</td>\n",
       "      <td>8.4</td>\n",
       "      <td>368</td>\n",
       "    </tr>\n",
       "    <tr>\n",
       "      <th>2</th>\n",
       "      <td>0.079</td>\n",
       "      <td>45.0</td>\n",
       "      <td>1024</td>\n",
       "      <td>Fireside Chat</td>\n",
       "      <td>Winter Warmer</td>\n",
       "      <td>other</td>\n",
       "      <td>12.0</td>\n",
       "      <td>368</td>\n",
       "    </tr>\n",
       "    <tr>\n",
       "      <th>3</th>\n",
       "      <td>0.044</td>\n",
       "      <td>42.0</td>\n",
       "      <td>876</td>\n",
       "      <td>Bitter American</td>\n",
       "      <td>American Pale Ale (APA)</td>\n",
       "      <td>American Pale Ale (APA)</td>\n",
       "      <td>12.0</td>\n",
       "      <td>368</td>\n",
       "    </tr>\n",
       "  </tbody>\n",
       "</table>\n",
       "</div>"
      ],
      "text/plain": [
       "     abv   ibu  beer_id        beer_name                    style   \n",
       "0  0.061  60.0     1979     Bitter Bitch  American Pale Ale (APA)  \\\n",
       "1  0.099  92.0     1036    Lower De Boom      American Barleywine   \n",
       "2  0.079  45.0     1024    Fireside Chat            Winter Warmer   \n",
       "3  0.044  42.0      876  Bitter American  American Pale Ale (APA)   \n",
       "\n",
       "               style_group  ounces  brewery_id  \n",
       "0  American Pale Ale (APA)    12.0         177  \n",
       "1                    other     8.4         368  \n",
       "2                    other    12.0         368  \n",
       "3  American Pale Ale (APA)    12.0         368  "
      ]
     },
     "execution_count": 12,
     "metadata": {},
     "output_type": "execute_result"
    }
   ],
   "source": [
    "# read in data into dataframe\n",
    "\n",
    "beer_url = 'https://raw.githubusercontent.com/niklasax/Final_Project/main/data_cleaning/beer_cleaned.csv'\n",
    "breweries_url = 'https://raw.githubusercontent.com/niklasax/Final_Project/main/data_cleaning/brewery_cleaned.csv'\n",
    "\n",
    "beer_df = pd.read_csv(beer_url)\n",
    "breweries_df = pd.read_csv(breweries_url)\n",
    "beer_df.head(4)\n",
    "\n"
   ]
  },
  {
   "cell_type": "code",
   "execution_count": 13,
   "metadata": {},
   "outputs": [
    {
     "name": "stdout",
     "output_type": "stream",
     "text": [
      "Variable        Type         Data/Info\n",
      "--------------------------------------\n",
      "beer_df         DataFrame            abv   ibu  beer_i<...>\\n[1326 rows x 8 columns]\n",
      "beer_url        str          https://raw.githubusercon<...>cleaning/beer_cleaned.csv\n",
      "breweries_df    DataFrame         brewery_id          <...>n\\n[558 rows x 4 columns]\n",
      "breweries_url   str          https://raw.githubusercon<...>aning/brewery_cleaned.csv\n",
      "create_engine   function     <function create_engine at 0x1743f4280>\n",
      "pd              module       <module 'pandas' from '/U<...>ages/pandas/__init__.py'>\n"
     ]
    }
   ],
   "source": [
    "whos"
   ]
  },
  {
   "cell_type": "code",
   "execution_count": 22,
   "metadata": {},
   "outputs": [
    {
     "name": "stdout",
     "output_type": "stream",
     "text": [
      "abv: [0.061 0.099 0.079 ... 0.06 0.067 0.055]\n"
     ]
    }
   ],
   "source": [
    "# split the data into abv, ibu, beer_name, and style, and style group\n",
    "abv = beer_df.to_numpy()[:,0]\n",
    "ibu = beer_df.to_numpy()[:,1]\n",
    "beer_name = beer_df.to_numpy()[:,3]\n",
    "style = beer_df.to_numpy()[:,4]\n",
    "style_group = beer_df.to_numpy()[:,5]\n",
    "\n",
    "print('abv:', abv)"
   ]
  }
 ],
 "metadata": {
  "kernelspec": {
   "display_name": "EE595",
   "language": "python",
   "name": "python3"
  },
  "language_info": {
   "codemirror_mode": {
    "name": "ipython",
    "version": 3
   },
   "file_extension": ".py",
   "mimetype": "text/x-python",
   "name": "python",
   "nbconvert_exporter": "python",
   "pygments_lexer": "ipython3",
   "version": "3.8.12"
  },
  "orig_nbformat": 4
 },
 "nbformat": 4,
 "nbformat_minor": 2
}
