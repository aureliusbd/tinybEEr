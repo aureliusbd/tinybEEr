{
 "cells": [
  {
   "attachments": {},
   "cell_type": "markdown",
   "metadata": {},
   "source": [
    "# tinybEEr Project\n",
    "\n",
    "## Marcus Deichman, Julia Combs, Jasmine Gill\n",
    "\n",
    "Notebook will create, train, and compress the beer classification model that will be deployed on the tinyML device"
   ]
  },
  {
   "cell_type": "code",
   "execution_count": null,
   "metadata": {},
   "outputs": [],
   "source": [
    "# Insert Cool Project Here!"
   ]
  }
 ],
 "metadata": {
  "language_info": {
   "name": "python"
  },
  "orig_nbformat": 4
 },
 "nbformat": 4,
 "nbformat_minor": 2
}
