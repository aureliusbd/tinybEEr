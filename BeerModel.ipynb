{
 "cells": [
  {
   "attachments": {},
   "cell_type": "markdown",
   "metadata": {},
   "source": [
    "# tinybEEr Project\n",
    "\n",
    "## Marcus Deichman, Julia Combs, Jasmine Gill\n",
    "\n",
    "Notebook will create, train, and compress the beer classification model that will be deployed on the tinyML device"
   ]
  },
  {
   "cell_type": "code",
   "execution_count": 30,
   "metadata": {},
   "outputs": [],
   "source": [
    "# import all necessary packages \n",
    "\n",
    "import pandas as pd\n",
    "import re\n",
    "\n",
    "import numpy as np\n",
    "import seaborn as sns; sns.set()\n",
    "import matplotlib.pyplot as plt\n",
    "\n",
    "from sklearn.model_selection import train_test_split # used to split the data into training and test sets\n",
    "from sklearn.datasets import make_blobs"
   ]
  },
  {
   "cell_type": "code",
   "execution_count": null,
   "metadata": {},
   "outputs": [],
   "source": [
    "# Insert Cool Project Here!"
   ]
  },
  {
   "cell_type": "code",
   "execution_count": 46,
   "metadata": {},
   "outputs": [
    {
     "data": {
      "text/html": [
       "<div>\n",
       "<style scoped>\n",
       "    .dataframe tbody tr th:only-of-type {\n",
       "        vertical-align: middle;\n",
       "    }\n",
       "\n",
       "    .dataframe tbody tr th {\n",
       "        vertical-align: top;\n",
       "    }\n",
       "\n",
       "    .dataframe thead th {\n",
       "        text-align: right;\n",
       "    }\n",
       "</style>\n",
       "<table border=\"1\" class=\"dataframe\">\n",
       "  <thead>\n",
       "    <tr style=\"text-align: right;\">\n",
       "      <th></th>\n",
       "      <th>abv</th>\n",
       "      <th>ibu</th>\n",
       "      <th>beer_id</th>\n",
       "      <th>beer_name</th>\n",
       "      <th>style</th>\n",
       "      <th>style_group</th>\n",
       "      <th>ounces</th>\n",
       "      <th>brewery_id</th>\n",
       "    </tr>\n",
       "  </thead>\n",
       "  <tbody>\n",
       "    <tr>\n",
       "      <th>0</th>\n",
       "      <td>0.061</td>\n",
       "      <td>60.0</td>\n",
       "      <td>1979</td>\n",
       "      <td>Bitter Bitch</td>\n",
       "      <td>American Pale Ale (APA)</td>\n",
       "      <td>American Pale Ale (APA)</td>\n",
       "      <td>12.0</td>\n",
       "      <td>177</td>\n",
       "    </tr>\n",
       "    <tr>\n",
       "      <th>1</th>\n",
       "      <td>0.099</td>\n",
       "      <td>92.0</td>\n",
       "      <td>1036</td>\n",
       "      <td>Lower De Boom</td>\n",
       "      <td>American Barleywine</td>\n",
       "      <td>other</td>\n",
       "      <td>8.4</td>\n",
       "      <td>368</td>\n",
       "    </tr>\n",
       "    <tr>\n",
       "      <th>2</th>\n",
       "      <td>0.079</td>\n",
       "      <td>45.0</td>\n",
       "      <td>1024</td>\n",
       "      <td>Fireside Chat</td>\n",
       "      <td>Winter Warmer</td>\n",
       "      <td>other</td>\n",
       "      <td>12.0</td>\n",
       "      <td>368</td>\n",
       "    </tr>\n",
       "    <tr>\n",
       "      <th>3</th>\n",
       "      <td>0.044</td>\n",
       "      <td>42.0</td>\n",
       "      <td>876</td>\n",
       "      <td>Bitter American</td>\n",
       "      <td>American Pale Ale (APA)</td>\n",
       "      <td>American Pale Ale (APA)</td>\n",
       "      <td>12.0</td>\n",
       "      <td>368</td>\n",
       "    </tr>\n",
       "  </tbody>\n",
       "</table>\n",
       "</div>"
      ],
      "text/plain": [
       "     abv   ibu  beer_id        beer_name                    style   \n",
       "0  0.061  60.0     1979     Bitter Bitch  American Pale Ale (APA)  \\\n",
       "1  0.099  92.0     1036    Lower De Boom      American Barleywine   \n",
       "2  0.079  45.0     1024    Fireside Chat            Winter Warmer   \n",
       "3  0.044  42.0      876  Bitter American  American Pale Ale (APA)   \n",
       "\n",
       "               style_group  ounces  brewery_id  \n",
       "0  American Pale Ale (APA)    12.0         177  \n",
       "1                    other     8.4         368  \n",
       "2                    other    12.0         368  \n",
       "3  American Pale Ale (APA)    12.0         368  "
      ]
     },
     "execution_count": 46,
     "metadata": {},
     "output_type": "execute_result"
    }
   ],
   "source": [
    "# read in data into dataframe\n",
    "\n",
    "beer_url = 'https://raw.githubusercontent.com/niklasax/Final_Project/main/data_cleaning/beer_cleaned.csv'\n",
    "breweries_url = 'https://raw.githubusercontent.com/niklasax/Final_Project/main/data_cleaning/brewery_cleaned.csv'\n",
    "\n",
    "beer_df = pd.read_csv(beer_url)\n",
    "breweries_df = pd.read_csv(breweries_url)\n",
    "beer_df.head(4)\n",
    "\n"
   ]
  },
  {
   "cell_type": "code",
   "execution_count": 3,
   "metadata": {},
   "outputs": [
    {
     "name": "stderr",
     "output_type": "stream",
     "text": [
      "/var/folders/bw/mcsyxzmn1hb9278cn9k93vch0000gn/T/ipykernel_42426/1325035753.py:5: DtypeWarning: Columns (0,1,3,4,5,6,7,8,9,17,18,19,20,21,22,23,24,25,26,27,28,29,30,31,32,33,34,35,36,37,38,39,41,46,48,49,50,51,52,54,58,60,61,62,63,64,66,70,71,72,73,74,75,76,78,82,84,85,86,87,88,90,94,96,97,98,99,100,102,108,109,110,111,112,114,118,119,121,122,123,124,126,131,133,134,135,136,138,143,145,146,147,148,150,155,157,158,159,160,162,167,169,170,171,172,174,179,181,182,183,184,186,191,193,194,195,196,198,203,205,206,207,215,217,219,227,229,231,239,240,241,242,243,245,247,251,253,255,257,263,264,266,268,276,278,280,288,290,292,300,302,304,312,314,316,324,326,328,336,338,340,348,349,350,351,353,355,363,364,366,368,376,378,380,388,390,392,400,402,404,412,414,416,424,426,428,436,438,440,448,450,452,460,462,464,474,476,484,486,488,496,498,500,508,510,512,520,522,524,532,534,536,544) have mixed types. Specify dtype option on import or set low_memory=False.\n",
      "  beer_opendata_df = pd.read_csv(beers_url)\n"
     ]
    },
    {
     "data": {
      "text/html": [
       "<div>\n",
       "<style scoped>\n",
       "    .dataframe tbody tr th:only-of-type {\n",
       "        vertical-align: middle;\n",
       "    }\n",
       "\n",
       "    .dataframe tbody tr th {\n",
       "        vertical-align: top;\n",
       "    }\n",
       "\n",
       "    .dataframe thead th {\n",
       "        text-align: right;\n",
       "    }\n",
       "</style>\n",
       "<table border=\"1\" class=\"dataframe\">\n",
       "  <thead>\n",
       "    <tr style=\"text-align: right;\">\n",
       "      <th></th>\n",
       "      <th>id</th>\n",
       "      <th>brewery_id</th>\n",
       "      <th>name</th>\n",
       "      <th>cat_id</th>\n",
       "      <th>style_id</th>\n",
       "      <th>abv</th>\n",
       "      <th>ibu</th>\n",
       "      <th>srm</th>\n",
       "      <th>upc</th>\n",
       "      <th>filepath</th>\n",
       "      <th>...</th>\n",
       "      <th>Unnamed: 535</th>\n",
       "      <th>Unnamed: 536</th>\n",
       "      <th>Unnamed: 537</th>\n",
       "      <th>Unnamed: 538</th>\n",
       "      <th>Unnamed: 539</th>\n",
       "      <th>Unnamed: 540</th>\n",
       "      <th>Unnamed: 541</th>\n",
       "      <th>Unnamed: 542</th>\n",
       "      <th>Unnamed: 543</th>\n",
       "      <th>Unnamed: 544</th>\n",
       "    </tr>\n",
       "  </thead>\n",
       "  <tbody>\n",
       "    <tr>\n",
       "      <th>0</th>\n",
       "      <td>1</td>\n",
       "      <td>812</td>\n",
       "      <td>Hocus Pocus</td>\n",
       "      <td>11</td>\n",
       "      <td>116</td>\n",
       "      <td>4.5</td>\n",
       "      <td>0</td>\n",
       "      <td>0</td>\n",
       "      <td>0</td>\n",
       "      <td>NaN</td>\n",
       "      <td>...</td>\n",
       "      <td>NaN</td>\n",
       "      <td>NaN</td>\n",
       "      <td>NaN</td>\n",
       "      <td>NaN</td>\n",
       "      <td>NaN</td>\n",
       "      <td>NaN</td>\n",
       "      <td>NaN</td>\n",
       "      <td>NaN</td>\n",
       "      <td>NaN</td>\n",
       "      <td>NaN</td>\n",
       "    </tr>\n",
       "    <tr>\n",
       "      <th>1</th>\n",
       "      <td>2</td>\n",
       "      <td>264</td>\n",
       "      <td>Grimbergen Blonde</td>\n",
       "      <td>-1</td>\n",
       "      <td>-1</td>\n",
       "      <td>6.7</td>\n",
       "      <td>0</td>\n",
       "      <td>0</td>\n",
       "      <td>0</td>\n",
       "      <td>NaN</td>\n",
       "      <td>...</td>\n",
       "      <td>NaN</td>\n",
       "      <td>NaN</td>\n",
       "      <td>NaN</td>\n",
       "      <td>NaN</td>\n",
       "      <td>NaN</td>\n",
       "      <td>NaN</td>\n",
       "      <td>NaN</td>\n",
       "      <td>NaN</td>\n",
       "      <td>NaN</td>\n",
       "      <td>NaN</td>\n",
       "    </tr>\n",
       "    <tr>\n",
       "      <th>2</th>\n",
       "      <td>3</td>\n",
       "      <td>779</td>\n",
       "      <td>Widdershins Barleywine</td>\n",
       "      <td>-1</td>\n",
       "      <td>-1</td>\n",
       "      <td>9.1</td>\n",
       "      <td>0</td>\n",
       "      <td>0</td>\n",
       "      <td>0</td>\n",
       "      <td>NaN</td>\n",
       "      <td>...</td>\n",
       "      <td>NaN</td>\n",
       "      <td>NaN</td>\n",
       "      <td>NaN</td>\n",
       "      <td>NaN</td>\n",
       "      <td>NaN</td>\n",
       "      <td>NaN</td>\n",
       "      <td>NaN</td>\n",
       "      <td>NaN</td>\n",
       "      <td>NaN</td>\n",
       "      <td>NaN</td>\n",
       "    </tr>\n",
       "  </tbody>\n",
       "</table>\n",
       "<p>3 rows × 545 columns</p>\n",
       "</div>"
      ],
      "text/plain": [
       "  id brewery_id                    name cat_id style_id  abv ibu srm upc   \n",
       "0  1        812             Hocus Pocus     11      116  4.5   0   0   0  \\\n",
       "1  2        264       Grimbergen Blonde     -1       -1  6.7   0   0   0   \n",
       "2  3        779  Widdershins Barleywine     -1       -1  9.1   0   0   0   \n",
       "\n",
       "  filepath  ... Unnamed: 535 Unnamed: 536 Unnamed: 537 Unnamed: 538   \n",
       "0      NaN  ...          NaN          NaN          NaN          NaN  \\\n",
       "1      NaN  ...          NaN          NaN          NaN          NaN   \n",
       "2      NaN  ...          NaN          NaN          NaN          NaN   \n",
       "\n",
       "  Unnamed: 539 Unnamed: 540 Unnamed: 541 Unnamed: 542 Unnamed: 543   \n",
       "0          NaN          NaN          NaN          NaN          NaN  \\\n",
       "1          NaN          NaN          NaN          NaN          NaN   \n",
       "2          NaN          NaN          NaN          NaN          NaN   \n",
       "\n",
       "  Unnamed: 544  \n",
       "0          NaN  \n",
       "1          NaN  \n",
       "2          NaN  \n",
       "\n",
       "[3 rows x 545 columns]"
      ]
     },
     "execution_count": 3,
     "metadata": {},
     "output_type": "execute_result"
    }
   ],
   "source": [
    "# different beer cvs file\n",
    "\n",
    "beers_url = \"https://raw.githubusercontent.com/aureliusbd/tinybEEr/main/beers.csv\"\n",
    "\n",
    "beer_opendata_df = pd.read_csv(beers_url)\n",
    "beer_opendata_df.head(3)\n",
    "\n"
   ]
  },
  {
   "cell_type": "code",
   "execution_count": 41,
   "metadata": {},
   "outputs": [
    {
     "name": "stdout",
     "output_type": "stream",
     "text": [
      "srm shape orig: (5861,)\n",
      "srm new shape: (5861,)\n",
      "srm_flt: [0. 0. 0. ... 0. 0. 0.]\n",
      "abv: [4.5 6.7 9.1 ... 0.  0.  0. ]\n"
     ]
    }
   ],
   "source": [
    "srm = beer_opendata_df.to_numpy()[:,7]\n",
    "abv_beers = beer_opendata_df.to_numpy()[:,5]\n",
    "print('srm shape orig:', srm.shape)\n",
    "\n",
    "def convert_to_float(value):\n",
    "    try:\n",
    "        return float(value)\n",
    "    except ValueError:\n",
    "        return np.nan\n",
    "    \n",
    "srm_flt = np.vectorize(convert_to_float)(srm)\n",
    "abv_beers_flt = np.vectorize(convert_to_float)(abv_beers)\n",
    "\n",
    "print('srm new shape:', srm_flt.shape)\n",
    "\n",
    "print('srm_flt:', srm_flt)\n",
    "\n",
    "\n",
    "def convert_to_float_2(value):\n",
    "    try:\n",
    "        cleaned_value = re.sub(r'[^\\d.]+', '', value)  # Remove non-numeric characters\n",
    "        return float(cleaned_value)\n",
    "    except ValueError:\n",
    "        return np.nan\n",
    "\n",
    "\n",
    "print('abv:', abv_beers_flt)"
   ]
  },
  {
   "cell_type": "code",
   "execution_count": 42,
   "metadata": {},
   "outputs": [
    {
     "data": {
      "text/plain": [
       "Text(0, 0.5, 'abv_beers')"
      ]
     },
     "execution_count": 42,
     "metadata": {},
     "output_type": "execute_result"
    },
    {
     "data": {
      "image/png": "[encoded data removed]",
      "text/plain": [
       "<Figure size 640x480 with 1 Axes>"
      ]
     },
     "metadata": {},
     "output_type": "display_data"
    }
   ],
   "source": [
    "plt.scatter(srm_flt, abv_beers_flt)\n",
    "plt.xlabel('srm')\n",
    "plt.ylabel('abv_beers')"
   ]
  },
  {
   "cell_type": "code",
   "execution_count": 45,
   "metadata": {},
   "outputs": [
    {
     "name": "stdout",
     "output_type": "stream",
     "text": [
      "Number of nonzero SRM values in dataset: 13\n",
      "Number of zeros in dataset: 5808\n"
     ]
    }
   ],
   "source": [
    "# determine how many values are not zero\n",
    "nonzero_val = np.count_nonzero(srm_flt > 0)\n",
    "zero_val = np.count_nonzero(srm_flt == 0)\n",
    "print('Number of nonzero SRM values in dataset:', nonzero_val)\n",
    "print('Number of zeros in dataset:', zero_val)"
   ]
  },
  {
   "cell_type": "code",
   "execution_count": 7,
   "metadata": {},
   "outputs": [
    {
     "name": "stdout",
     "output_type": "stream",
     "text": [
      "Variable           Type         Data/Info\n",
      "-----------------------------------------\n",
      "beer_opendata_df   DataFrame            id brewery_id    <...>[5861 rows x 545 columns]\n",
      "beers_url          str          https://raw.githubusercon<...>d/tinybEEr/main/beers.csv\n",
      "make_blobs         function     <function make_blobs at 0x15111e3a0>\n",
      "np                 module       <module 'numpy' from '/Us<...>kages/numpy/__init__.py'>\n",
      "pd                 module       <module 'pandas' from '/U<...>ages/pandas/__init__.py'>\n",
      "plt                module       <module 'matplotlib.pyplo<...>es/matplotlib/pyplot.py'>\n",
      "sns                module       <module 'seaborn' from '/<...>ges/seaborn/__init__.py'>\n",
      "srm                ndarray      5861: 5861 elems, type `object`, 46888 bytes\n",
      "train_test_split   function     <function train_test_split at 0x150b28040>\n"
     ]
    }
   ],
   "source": [
    "whos"
   ]
  },
  {
   "cell_type": "code",
   "execution_count": 53,
   "metadata": {},
   "outputs": [
    {
     "name": "stdout",
     "output_type": "stream",
     "text": [
      "abv: [0.061 0.099 0.079 ... 0.06 0.067 0.055]\n",
      "style: ['American Pale Ale (APA)' 'American Barleywine' 'Winter Warmer' ...\n",
      " 'American Pale Ale (APA)' 'Belgian IPA' 'American Pale Ale (APA)']\n",
      "abv_flt: 0       0.061\n",
      "1       0.099\n",
      "2       0.079\n",
      "3       0.044\n",
      "4       0.049\n",
      "        ...  \n",
      "1321    0.077\n",
      "1322    0.069\n",
      "1323    0.060\n",
      "1324    0.067\n",
      "1325    0.055\n",
      "Name: abv, Length: 1326, dtype: float64\n",
      "ibu_flt: 0       60.0\n",
      "1       92.0\n",
      "2       45.0\n",
      "3       42.0\n",
      "4       17.0\n",
      "        ... \n",
      "1321    30.0\n",
      "1322    69.0\n",
      "1323    50.0\n",
      "1324    45.0\n",
      "1325    40.0\n",
      "Name: ibu, Length: 1326, dtype: float64\n",
      "abv_flt_shape (1326,)\n",
      "ibu[0] 60.0\n",
      "abv_ibu (1326, 2)\n",
      "abv_ibu[0,1] 60.0\n"
     ]
    }
   ],
   "source": [
    "# split the data into abv, ibu, beer_name, and style, and style group\n",
    "abv = beer_df.to_numpy()[:,0]\n",
    "ibu = beer_df.to_numpy()[:,1]\n",
    "beer_name = beer_df.to_numpy()[:,3]\n",
    "style = beer_df.to_numpy()[:,4]\n",
    "style_group = beer_df.to_numpy()[:,5]\n",
    "print('abv:', abv)\n",
    "print('style:', style)\n",
    "\n",
    "abv_flt = beer_df['abv'].astype(float)\n",
    "ibu_flt = beer_df['ibu'].astype(float)\n",
    "\n",
    "abv_ibu = np.empty([abv_flt.shape[0], 2])\n",
    "\n",
    "for i in range(abv_flt.shape[0]):\n",
    "    abv_ibu[i,0] = abv_flt[i]\n",
    "    abv_ibu[i,1] = ibu_flt[i]\n",
    "\n",
    "\n",
    "print('abv_flt:', abv_flt)\n",
    "print('ibu_flt:', ibu_flt)\n",
    "print('abv_flt_shape', abv_flt.shape)\n",
    "\n",
    "\n",
    "print('ibu[0]', ibu[0])\n",
    "\n",
    "print('abv_ibu', abv_ibu.shape)\n",
    "print('abv_ibu[0,1]', abv_ibu[0,1])"
   ]
  },
  {
   "cell_type": "code",
   "execution_count": 62,
   "metadata": {},
   "outputs": [
    {
     "data": {
      "text/plain": [
       "<matplotlib.collections.PathCollection at 0x2bf957f70>"
      ]
     },
     "execution_count": 62,
     "metadata": {},
     "output_type": "execute_result"
    },
    {
     "data": {
      "image/png": "[encoded data removed]",
      "text/plain": [
       "<Figure size 640x480 with 1 Axes>"
      ]
     },
     "metadata": {},
     "output_type": "display_data"
    }
   ],
   "source": [
    "plt.scatter(abv_flt, ibu_flt)"
   ]
  },
  {
   "cell_type": "code",
   "execution_count": 44,
   "metadata": {},
   "outputs": [
    {
     "name": "stdout",
     "output_type": "stream",
     "text": [
      "Variable             Type         Data/Info\n",
      "-------------------------------------------\n",
      "KMeans               ABCMeta      <class 'sklearn.cluster._kmeans.KMeans'>\n",
      "a                    ndarray      1326x8: 10608 elems, type `object`, 84864 bytes\n",
      "abv                  ndarray      1326: 1326 elems, type `object`, 10608 bytes\n",
      "abv_2                Series       0       0.061\\n1       0.<...>gth: 1326, dtype: float64\n",
      "abv_3                Series       0       0.061\\n1       0.<...>gth: 1326, dtype: float64\n",
      "abv_ibu_data         list         n=2\n",
      "abv_ibu_data_test    list         n=1\n",
      "abv_ibu_data_train   list         n=1\n",
      "abv_test             ndarray      266: 266 elems, type `object`, 2128 bytes\n",
      "abv_train            ndarray      1060: 1060 elems, type `object`, 8480 bytes\n",
      "beer_df              DataFrame            abv   ibu  beer_i<...>\\n[1326 rows x 8 columns]\n",
      "beer_name            ndarray      1326: 1326 elems, type `object`, 10608 bytes\n",
      "beer_name_test       ndarray      266: 266 elems, type `object`, 2128 bytes\n",
      "beer_name_train      ndarray      1060: 1060 elems, type `object`, 8480 bytes\n",
      "beer_url             str          https://raw.githubusercon<...>cleaning/beer_cleaned.csv\n",
      "breweries_df         DataFrame         brewery_id          <...>n\\n[558 rows x 4 columns]\n",
      "breweries_url        str          https://raw.githubusercon<...>aning/brewery_cleaned.csv\n",
      "create_engine        function     <function create_engine at 0x1743f4280>\n",
      "ibu                  ndarray      1326: 1326 elems, type `object`, 10608 bytes\n",
      "ibu_test             ndarray      266: 266 elems, type `object`, 2128 bytes\n",
      "ibu_train            ndarray      1060: 1060 elems, type `object`, 8480 bytes\n",
      "ibu_train_tru        ndarray      100: 100 elems, type `int64`, 800 bytes\n",
      "kmeans               KMeans       KMeans(n_clusters=10)\n",
      "m                    matrix       [[0.061 60.0 1979 ... 'Am<...>ale Ale (APA)' 12.0 424]]\n",
      "make_blobs           function     <function make_blobs at 0x2b38d5700>\n",
      "np                   module       <module 'numpy' from '/Us<...>kages/numpy/__init__.py'>\n",
      "num_centers          int          10\n",
      "num_test_data        int          266\n",
      "num_train_data       int          1060\n",
      "num_training_data    int          1060\n",
      "pd                   module       <module 'pandas' from '/U<...>ages/pandas/__init__.py'>\n",
      "plt                  module       <module 'matplotlib.pyplo<...>es/matplotlib/pyplot.py'>\n",
      "sns                  module       <module 'seaborn' from '/<...>ges/seaborn/__init__.py'>\n",
      "style                ndarray      1326: 1326 elems, type `object`, 10608 bytes\n",
      "style_group          ndarray      1326: 1326 elems, type `object`, 10608 bytes\n",
      "style_test           ndarray      266: 266 elems, type `object`, 2128 bytes\n",
      "style_train          ndarray      1060: 1060 elems, type `object`, 8480 bytes\n",
      "train_test_split     function     <function train_test_split at 0x2b1e3df70>\n",
      "y_kmeans             ndarray      100: 100 elems, type `int32`, 400 bytes\n"
     ]
    }
   ],
   "source": [
    "whos"
   ]
  },
  {
   "cell_type": "code",
   "execution_count": 54,
   "metadata": {},
   "outputs": [],
   "source": [
    "# split the data into training and testing sets\n",
    "\n",
    "#abv_train, abv_test, ibu_train, ibu_test, beer_name_train, beer_name_test, style_train, style_test = train_test_split(abv, ibu, beer_name, style, test_size = 0.2)\n",
    "\n",
    "abv_ibu_train, abv_ibu_test = train_test_split(abv_ibu, test_size=0.3)"
   ]
  },
  {
   "cell_type": "code",
   "execution_count": 59,
   "metadata": {},
   "outputs": [
    {
     "name": "stdout",
     "output_type": "stream",
     "text": [
      "Number of training data points: 928\n",
      "Number of testing data point: 398\n"
     ]
    }
   ],
   "source": [
    "num_train_data = abv_ibu_train.shape[0]\n",
    "print('Number of training data points:', num_train_data)\n",
    "\n",
    "num_test_data = abv_ibu_test.shape[0]\n",
    "print('Number of testing data point:', num_test_data)\n"
   ]
  },
  {
   "cell_type": "code",
   "execution_count": 64,
   "metadata": {},
   "outputs": [
    {
     "name": "stdout",
     "output_type": "stream",
     "text": [
      "[2 2 5 0 1 0 1 2 0 0 3 0 8 7 1 5 3 7 5 1 5 8 8 5 7 2 2 1 8 5 5 4 9 9 1 4 3\n",
      " 2 4 5 9 8 0 9 2 8 4 0 7 4 0 2 2 1 0 5 0 1 4 2 0 2 9 0 5 0 3 1 5 3 2 5 0 5\n",
      " 5 9 0 8 0 8 5 9 7 7 9 5 7 2 2 2 2 2 5 3 2 2 2 8 8 4 2 5 5 2 7 9 2 2 9 2 8\n",
      " 2 2 2 5 2 8 8 1 5 8 1 9 5 2 4 2 0 0 2 8 8 7 4 9 5 0 3 8 4 2 2 7 2 8 0 1 5\n",
      " 2 5 3 0 2 2 8 2 0 1 0 7 0 0 2 0 0 8 9 2 9 5 7 9 8 0 5 8 1 0 5 1 2 1 4 4 0\n",
      " 4 4 9 2 0 2 8 3 7 2 5 2 1 8 2 2 2 0 2 5 6 2 5 7 6 2 2 8 2 2 0 5 7 1 5 5 8\n",
      " 8 2 1 2 5 2 2 7 9 5 5 0 6 7 4 9 9 2 4 1 5 3 9 1 8 5 1 2 2 7 0 1 5 1 0 2 0\n",
      " 4 0 0 2 4 3 6 1 9 2 7 5 8 4 0 8 0 9 5 9 0 0 1 7 9 4 2 8 5 6 2 1 1 8 4 2 2\n",
      " 2 2 0 7 5 9 2 9 0 8 2 3 8 1 2 8 5 1 2 5 2 4 0 7 0 9 2 4 2 0 8 2 3 5 0 8 0\n",
      " 2 5 8 0 0 2 5 5 2 1 0 2 2 2 7 5 9 1 2 9 0 8 9 8 3 8 8 2 4 8 5 8 7 4 5 0 4\n",
      " 1 2 5 4 1 2 4 9 5 5 0 3 5 3 2 1 9 9 5 7 5 3 5 0 2 5 2 4 2 5 2 1 7 9 9 4 1\n",
      " 2 2 2 2 0 0 9 5 5 8 2 0 2 5 2 9 5 5 2 8 1 0 0 8 2 2 2 0 9 0 2 4 4 0 9 9 9\n",
      " 1 0 1 2 1 6 4 8 5 0 7 2 7 2 4 5 3 9 0 0 3 8 8 8 5 8 0 1 8 5 1 0 2 9 0 5 8\n",
      " 9 2 2 2 0 4 2 5 4 9 2 2 7 2 1 0 8 1 6 0 9 0 5 2 5 9 7 2 2 3 9 0 0 9 0 5 7\n",
      " 0 1 2 0 8 5 4 2 2 5 2 5 5 2 3 9 0 4 2 7 8 0 5 0 5 2 2 7 9 8 8 0 0 5 7 8 3\n",
      " 2 0 5 0 2 6 0 2 9 7 5 2 9 3 0 8 8 7 4 7 0 5 6 5 1 1 0 8 0 2 5 8 0 1 9 2 4\n",
      " 8 9 1 9 0 9 2 5 0 2 1 3 2 8 7 2 3 0 8 5 3 0 2 0 0 0 0 4 8 5 1 5 1 5 7 1 6\n",
      " 5 4 2 5 2 2 8 0 8 2 7 0 1 0 0 0 1 1 2 8 7 1 4 5 0 2 0 0 4 3 7 8 0 9 8 1 2\n",
      " 7 5 0 5 2 4 1 1 1 7 1 9 0 1 8 4 0 8 0 5 5 1 9 2 2 0 0 9 0 3 0 0 7 4 0 0 9\n",
      " 2 0 0 4 9 1 3 9 9 2 9 5 0 2 8 8 8 0 5 3 1 8 8 8 6 3 9 8 2 7 1 7 2 2 3 8 7\n",
      " 2 0 2 0 3 7 9 5 0 8 2 2 1 0 4 8 7 0 8 5 8 0 2 1 5 5 3 0 9 7 9 2 1 2 0 8 9\n",
      " 5 9 5 9 1 4 5 0 5 8 5 2 7 5 0 4 8 5 9 6 2 8 9 5 1 5 5 5 5 2 2 0 2 8 2 2 0\n",
      " 3 3 2 1 2 8 2 0 2 5 8 0 2 5 2 8 2 1 5 5 5 5 2 9 2 6 8 1 8 0 2 0 4 9 7 0 2\n",
      " 9 2 2 5 7 7 0 8 2 2 8 0 2 5 3 8 0 8 5 8 2 9 1 2 0 0 3 2 7 5 2 8 8 2 0 4 1\n",
      " 2 9 2 9 8 1 7 2 1 1 1 9 2 9 5 0 0 2 0 9 8 2 1 0 2 8 7 5 2 5 5 2 1 0 0 9 5\n",
      " 2 5 2]\n"
     ]
    },
    {
     "name": "stderr",
     "output_type": "stream",
     "text": [
      "/Users/juliacombs/Applications/anaconda3/envs/EE595/lib/python3.8/site-packages/sklearn/cluster/_kmeans.py:870: FutureWarning: The default value of `n_init` will change from 10 to 'auto' in 1.4. Set the value of `n_init` explicitly to suppress the warning\n",
      "  warnings.warn(\n"
     ]
    },
    {
     "data": {
      "image/png": "[encoded data removed]",
      "text/plain": [
       "<Figure size 640x480 with 1 Axes>"
      ]
     },
     "metadata": {},
     "output_type": "display_data"
    }
   ],
   "source": [
    "num_centers = 10\n",
    "\n",
    "from sklearn.cluster import KMeans\n",
    "kmeans= KMeans(n_clusters=num_centers)\n",
    "kmeans.fit(abv_ibu_train)\n",
    "\n",
    "y_kmeans = kmeans.predict(abv_ibu_train)\n",
    "y_kmeans\n",
    "\n",
    "plt.scatter(abv_ibu_train[:,0], abv_ibu_train[:,1])\n",
    "\n",
    "print(y_kmeans)"
   ]
  }
 ],
 "metadata": {
  "kernelspec": {
   "display_name": "EE595",
   "language": "python",
   "name": "python3"
  },
  "language_info": {
   "codemirror_mode": {
    "name": "ipython",
    "version": 3
   },
   "file_extension": ".py",
   "mimetype": "text/x-python",
   "name": "python",
   "nbconvert_exporter": "python",
   "pygments_lexer": "ipython3",
   "version": "3.8.12"
  },
  "orig_nbformat": 4
 },
 "nbformat": 4,
 "nbformat_minor": 2
}
